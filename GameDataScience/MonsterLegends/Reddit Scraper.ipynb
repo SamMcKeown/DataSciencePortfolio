{
 "cells": [
  {
   "cell_type": "markdown",
   "id": "3b18aaf2",
   "metadata": {},
   "source": [
    "### Contents <a class=\"anchor\" id=\"sections\"></a>\n",
    "\n",
    "- [Part 1. Getting Started](#section1)\n",
    "- [Part 2. Data Augmentation](#section2)\n",
    "- [Part 3. Data Clean](#section3)\n",
    "- [Part 4. Save DataFrame to CSV](#section4)\n",
    "- [Part 5. EDA](#section5)"
   ]
  },
  {
   "cell_type": "markdown",
   "id": "b6aa9bf8",
   "metadata": {},
   "source": [
    "### Part 1. Getting Started <a class=\"anchor\" id=\"section1\"></a>"
   ]
  },
  {
   "cell_type": "code",
   "execution_count": 1,
   "id": "b83b5fc7",
   "metadata": {},
   "outputs": [],
   "source": [
    "%config InlineBackend.figure_format = 'retina'\n",
    "\n",
    "import numpy as np\n",
    "import pandas as pd\n",
    "import praw\n",
    "import matplotlib.pyplot as plt\n",
    "import seaborn as sns\n",
    "from datetime import datetime\n",
    "\n",
    "sns.set()\n",
    "pd.set_option('display.max_colwidth', None)\n",
    "plt.rcParams['figure.figsize'] = (12, 6)"
   ]
  },
  {
   "cell_type": "code",
   "execution_count": 2,
   "id": "256af09c",
   "metadata": {},
   "outputs": [],
   "source": [
    "# User agent\n",
    "userAgent = \"####\"\n",
    "\n",
    "# Reddit client\n",
    "reddit = praw.Reddit(client_id = \"####\", client_secret = \"####\",\n",
    "                     user_agent = userAgent)\n",
    "\n",
    "# Subreddit\n",
    "data = reddit.subreddit('monsterlegends')\n",
    "\n",
    "# Scrape top posts for current month: March 2022\n",
    "marchPosts = data.top('month')"
   ]
  },
  {
   "cell_type": "code",
   "execution_count": 3,
   "id": "722de531",
   "metadata": {},
   "outputs": [],
   "source": [
    "# Dictionary (will be the DataFrame)\n",
    "postDict = {'Title': [], 'ID': [], 'Timestamp': [], 'URL': [],\n",
    "            'Author':[], 'Upvotes': [], 'Replies': [], 'Link': []}"
   ]
  },
  {
   "cell_type": "code",
   "execution_count": 4,
   "id": "6e2bfe17",
   "metadata": {},
   "outputs": [],
   "source": [
    "# Fill dictionary\n",
    "for post in marchPosts:\n",
    "    postDict['Title'].append(post.title)\n",
    "    postDict['ID'].append(post.id)\n",
    "    postDict['Timestamp'].append(post.created_utc)\n",
    "    postDict['URL'].append(post.permalink)\n",
    "    postDict['Author'].append(post.author)\n",
    "    postDict['Upvotes'].append(post.score)\n",
    "    postDict['Replies'].append(post.num_comments)\n",
    "    postDict['Link'].append(post.url)"
   ]
  },
  {
   "cell_type": "code",
   "execution_count": 5,
   "id": "56ffb515",
   "metadata": {},
   "outputs": [
    {
     "data": {
      "text/plain": [
       "(100, 8)"
      ]
     },
     "execution_count": 5,
     "metadata": {},
     "output_type": "execute_result"
    }
   ],
   "source": [
    "# Read dictionary as a pandas DataFrame\n",
    "df=pd.DataFrame(postDict)\n",
    "df.shape"
   ]
  },
  {
   "cell_type": "code",
   "execution_count": 6,
   "id": "9f1ef600",
   "metadata": {},
   "outputs": [
    {
     "data": {
      "text/html": [
       "<div>\n",
       "<style scoped>\n",
       "    .dataframe tbody tr th:only-of-type {\n",
       "        vertical-align: middle;\n",
       "    }\n",
       "\n",
       "    .dataframe tbody tr th {\n",
       "        vertical-align: top;\n",
       "    }\n",
       "\n",
       "    .dataframe thead th {\n",
       "        text-align: right;\n",
       "    }\n",
       "</style>\n",
       "<table border=\"1\" class=\"dataframe\">\n",
       "  <thead>\n",
       "    <tr style=\"text-align: right;\">\n",
       "      <th></th>\n",
       "      <th>Title</th>\n",
       "      <th>ID</th>\n",
       "      <th>Timestamp</th>\n",
       "      <th>URL</th>\n",
       "      <th>Author</th>\n",
       "      <th>Upvotes</th>\n",
       "      <th>Replies</th>\n",
       "      <th>Link</th>\n",
       "    </tr>\n",
       "  </thead>\n",
       "  <tbody>\n",
       "    <tr>\n",
       "      <th>0</th>\n",
       "      <td>le smash or pass</td>\n",
       "      <td>tbeaxw</td>\n",
       "      <td>1.646961e+09</td>\n",
       "      <td>/r/MonsterLegends/comments/tbeaxw/le_smash_or_pass/</td>\n",
       "      <td>masked267</td>\n",
       "      <td>111</td>\n",
       "      <td>9</td>\n",
       "      <td>https://v.redd.it/i3na8we4onm81</td>\n",
       "    </tr>\n",
       "    <tr>\n",
       "      <th>1</th>\n",
       "      <td>Are they trying to make this game look terrible</td>\n",
       "      <td>t6jg53</td>\n",
       "      <td>1.646402e+09</td>\n",
       "      <td>/r/MonsterLegends/comments/t6jg53/are_they_trying_to_make_this_game_look_terrible/</td>\n",
       "      <td>Superpug22</td>\n",
       "      <td>95</td>\n",
       "      <td>30</td>\n",
       "      <td>https://v.redd.it/uq6au9qpgdl81</td>\n",
       "    </tr>\n",
       "    <tr>\n",
       "      <th>2</th>\n",
       "      <td>Missed opportunity for Doomsday era</td>\n",
       "      <td>t5arn4</td>\n",
       "      <td>1.646257e+09</td>\n",
       "      <td>/r/MonsterLegends/comments/t5arn4/missed_opportunity_for_doomsday_era/</td>\n",
       "      <td>Ok_Individual_8395</td>\n",
       "      <td>71</td>\n",
       "      <td>9</td>\n",
       "      <td>https://i.redd.it/8k7vt2x7h1l81.jpg</td>\n",
       "    </tr>\n",
       "  </tbody>\n",
       "</table>\n",
       "</div>"
      ],
      "text/plain": [
       "                                             Title      ID     Timestamp  \\\n",
       "0                                 le smash or pass  tbeaxw  1.646961e+09   \n",
       "1  Are they trying to make this game look terrible  t6jg53  1.646402e+09   \n",
       "2              Missed opportunity for Doomsday era  t5arn4  1.646257e+09   \n",
       "\n",
       "                                                                                  URL  \\\n",
       "0                                 /r/MonsterLegends/comments/tbeaxw/le_smash_or_pass/   \n",
       "1  /r/MonsterLegends/comments/t6jg53/are_they_trying_to_make_this_game_look_terrible/   \n",
       "2              /r/MonsterLegends/comments/t5arn4/missed_opportunity_for_doomsday_era/   \n",
       "\n",
       "               Author  Upvotes  Replies                                 Link  \n",
       "0           masked267      111        9      https://v.redd.it/i3na8we4onm81  \n",
       "1          Superpug22       95       30      https://v.redd.it/uq6au9qpgdl81  \n",
       "2  Ok_Individual_8395       71        9  https://i.redd.it/8k7vt2x7h1l81.jpg  "
      ]
     },
     "execution_count": 6,
     "metadata": {},
     "output_type": "execute_result"
    }
   ],
   "source": [
    "df.head(3)"
   ]
  },
  {
   "cell_type": "markdown",
   "id": "1ebaf3ea",
   "metadata": {},
   "source": [
    "### Part 2. Data Augmentation <a class=\"anchor\" id=\"section2\"></a>\n",
    "\n",
    "#### 2-1. Feature: URL"
   ]
  },
  {
   "cell_type": "code",
   "execution_count": 7,
   "id": "e4d21379",
   "metadata": {},
   "outputs": [],
   "source": [
    "# Add prefix to URL values\n",
    "df['URL'] = 'https://www.reddit.com' + df['URL'].astype(str)"
   ]
  },
  {
   "cell_type": "markdown",
   "id": "0a965e9c",
   "metadata": {},
   "source": [
    "#### 2-2. Feature: Timestamp"
   ]
  },
  {
   "cell_type": "code",
   "execution_count": 8,
   "id": "f7abd00a",
   "metadata": {},
   "outputs": [],
   "source": [
    "# Convert UTC Timestamp data\n",
    "df['Timestamp'] = [datetime.fromtimestamp(x) for x in df['Timestamp']]\n",
    "\n",
    "# Add new columns \n",
    "df['Day'] = df['Timestamp'].dt.day\n",
    "df['Month'] = df['Timestamp'].dt.month\n",
    "df['Year'] = df['Timestamp'].dt.year\n",
    "df['Time'] = df['Timestamp'].dt.time\n",
    "\n",
    "# Drop Timestamp column from DataFrame\n",
    "df = df.drop('Timestamp', axis=1)"
   ]
  },
  {
   "cell_type": "markdown",
   "id": "c659bf08",
   "metadata": {},
   "source": [
    "### Part 3. Data Clean <a class=\"anchor\" id=\"section3\"></a>\n",
    "\n",
    "#### 3-1. DataFrame"
   ]
  },
  {
   "cell_type": "code",
   "execution_count": 9,
   "id": "f2378ab5",
   "metadata": {},
   "outputs": [
    {
     "data": {
      "text/html": [
       "<div>\n",
       "<style scoped>\n",
       "    .dataframe tbody tr th:only-of-type {\n",
       "        vertical-align: middle;\n",
       "    }\n",
       "\n",
       "    .dataframe tbody tr th {\n",
       "        vertical-align: top;\n",
       "    }\n",
       "\n",
       "    .dataframe thead th {\n",
       "        text-align: right;\n",
       "    }\n",
       "</style>\n",
       "<table border=\"1\" class=\"dataframe\">\n",
       "  <thead>\n",
       "    <tr style=\"text-align: right;\">\n",
       "      <th></th>\n",
       "      <th>Title</th>\n",
       "      <th>URL</th>\n",
       "      <th>Author</th>\n",
       "      <th>Upvotes</th>\n",
       "      <th>Replies</th>\n",
       "      <th>Link</th>\n",
       "      <th>ID</th>\n",
       "      <th>Day</th>\n",
       "      <th>Month</th>\n",
       "      <th>Time</th>\n",
       "      <th>Year</th>\n",
       "    </tr>\n",
       "  </thead>\n",
       "  <tbody>\n",
       "    <tr>\n",
       "      <th>0</th>\n",
       "      <td>You have got to be kidding me 😭</td>\n",
       "      <td>https://www.reddit.com/r/MonsterLegends/comments/ss5u63/you_have_got_to_be_kidding_me/</td>\n",
       "      <td>vikicha123</td>\n",
       "      <td>30</td>\n",
       "      <td>15</td>\n",
       "      <td>https://www.reddit.com/gallery/ss5u63</td>\n",
       "      <td>ss5u63</td>\n",
       "      <td>14</td>\n",
       "      <td>2</td>\n",
       "      <td>09:34:44</td>\n",
       "      <td>2022</td>\n",
       "    </tr>\n",
       "    <tr>\n",
       "      <th>1</th>\n",
       "      <td>'SLUMSTER &amp; URIEL' WHO IS BETTER SUPPORT ?</td>\n",
       "      <td>https://www.reddit.com/r/MonsterLegends/comments/ssasqt/slumster_uriel_who_is_better_support/</td>\n",
       "      <td>Pecalele</td>\n",
       "      <td>29</td>\n",
       "      <td>11</td>\n",
       "      <td>https://v.redd.it/pr7lxujfxsh81</td>\n",
       "      <td>ssasqt</td>\n",
       "      <td>14</td>\n",
       "      <td>2</td>\n",
       "      <td>14:36:59</td>\n",
       "      <td>2022</td>\n",
       "    </tr>\n",
       "    <tr>\n",
       "      <th>2</th>\n",
       "      <td>It gonna be broken right?</td>\n",
       "      <td>https://www.reddit.com/r/MonsterLegends/comments/ssmna2/it_gonna_be_broken_right/</td>\n",
       "      <td>JTU105</td>\n",
       "      <td>17</td>\n",
       "      <td>17</td>\n",
       "      <td>https://i.redd.it/s3m4gefcfvh81.jpg</td>\n",
       "      <td>ssmna2</td>\n",
       "      <td>14</td>\n",
       "      <td>2</td>\n",
       "      <td>23:00:05</td>\n",
       "      <td>2022</td>\n",
       "    </tr>\n",
       "    <tr>\n",
       "      <th>3</th>\n",
       "      <td>I make a dream cry</td>\n",
       "      <td>https://www.reddit.com/r/MonsterLegends/comments/stlopl/i_make_a_dream_cry/</td>\n",
       "      <td>BiggusMcDingus</td>\n",
       "      <td>38</td>\n",
       "      <td>12</td>\n",
       "      <td>https://v.redd.it/7z3b6ewc64i81</td>\n",
       "      <td>stlopl</td>\n",
       "      <td>16</td>\n",
       "      <td>2</td>\n",
       "      <td>04:26:06</td>\n",
       "      <td>2022</td>\n",
       "    </tr>\n",
       "    <tr>\n",
       "      <th>4</th>\n",
       "      <td>Been getting a few of these lately. I should be lucky, but I heard the current multiplayer monster is bad.</td>\n",
       "      <td>https://www.reddit.com/r/MonsterLegends/comments/stmpsi/been_getting_a_few_of_these_lately_i_should_be/</td>\n",
       "      <td>strongestdig7</td>\n",
       "      <td>14</td>\n",
       "      <td>1</td>\n",
       "      <td>https://i.redd.it/w33s32svf4i81.jpg</td>\n",
       "      <td>stmpsi</td>\n",
       "      <td>16</td>\n",
       "      <td>2</td>\n",
       "      <td>05:19:06</td>\n",
       "      <td>2022</td>\n",
       "    </tr>\n",
       "  </tbody>\n",
       "</table>\n",
       "</div>"
      ],
      "text/plain": [
       "                                                                                                        Title  \\\n",
       "0                                                                             You have got to be kidding me 😭   \n",
       "1                                                                  'SLUMSTER & URIEL' WHO IS BETTER SUPPORT ?   \n",
       "2                                                                                   It gonna be broken right?   \n",
       "3                                                                                          I make a dream cry   \n",
       "4  Been getting a few of these lately. I should be lucky, but I heard the current multiplayer monster is bad.   \n",
       "\n",
       "                                                                                                       URL  \\\n",
       "0                   https://www.reddit.com/r/MonsterLegends/comments/ss5u63/you_have_got_to_be_kidding_me/   \n",
       "1            https://www.reddit.com/r/MonsterLegends/comments/ssasqt/slumster_uriel_who_is_better_support/   \n",
       "2                        https://www.reddit.com/r/MonsterLegends/comments/ssmna2/it_gonna_be_broken_right/   \n",
       "3                              https://www.reddit.com/r/MonsterLegends/comments/stlopl/i_make_a_dream_cry/   \n",
       "4  https://www.reddit.com/r/MonsterLegends/comments/stmpsi/been_getting_a_few_of_these_lately_i_should_be/   \n",
       "\n",
       "           Author  Upvotes  Replies                                   Link  \\\n",
       "0      vikicha123       30       15  https://www.reddit.com/gallery/ss5u63   \n",
       "1        Pecalele       29       11        https://v.redd.it/pr7lxujfxsh81   \n",
       "2          JTU105       17       17    https://i.redd.it/s3m4gefcfvh81.jpg   \n",
       "3  BiggusMcDingus       38       12        https://v.redd.it/7z3b6ewc64i81   \n",
       "4   strongestdig7       14        1    https://i.redd.it/w33s32svf4i81.jpg   \n",
       "\n",
       "       ID  Day  Month      Time  Year  \n",
       "0  ss5u63   14      2  09:34:44  2022  \n",
       "1  ssasqt   14      2  14:36:59  2022  \n",
       "2  ssmna2   14      2  23:00:05  2022  \n",
       "3  stlopl   16      2  04:26:06  2022  \n",
       "4  stmpsi   16      2  05:19:06  2022  "
      ]
     },
     "execution_count": 9,
     "metadata": {},
     "output_type": "execute_result"
    }
   ],
   "source": [
    "# Sort DataFrame\n",
    "df.sort_values(by=['Month', 'Day', 'Time'], inplace=True)\n",
    "\n",
    "# Reset index\n",
    "df.reset_index(drop=True, inplace=True)\n",
    "\n",
    "# Reorder columns\n",
    "df = df[['Title', 'URL', 'Author', 'Upvotes', 'Replies', 'Link', 'ID', 'Day', 'Month', 'Time', 'Year']]\n",
    "\n",
    "df.head()"
   ]
  },
  {
   "cell_type": "markdown",
   "id": "12b6cddf",
   "metadata": {},
   "source": [
    "### Part 4. Save DataFrame to CSV <a class=\"anchor\" id=\"section4\"></a>"
   ]
  },
  {
   "cell_type": "code",
   "execution_count": 10,
   "id": "b6342955",
   "metadata": {},
   "outputs": [],
   "source": [
    "df.to_csv('topPostsMarch2022.csv', header=True, encoding='utf-8', index=False)"
   ]
  },
  {
   "cell_type": "markdown",
   "id": "f2920b75",
   "metadata": {},
   "source": [
    "### Part 5. EDA <a class=\"anchor\" id=\"section5\"></a>\n",
    "\n",
    "#### 5-1. EDA March 2022: Posts with the most Upvotes "
   ]
  },
  {
   "cell_type": "code",
   "execution_count": 11,
   "id": "026e8a9a",
   "metadata": {},
   "outputs": [
    {
     "data": {
      "text/html": [
       "<div>\n",
       "<style scoped>\n",
       "    .dataframe tbody tr th:only-of-type {\n",
       "        vertical-align: middle;\n",
       "    }\n",
       "\n",
       "    .dataframe tbody tr th {\n",
       "        vertical-align: top;\n",
       "    }\n",
       "\n",
       "    .dataframe thead th {\n",
       "        text-align: right;\n",
       "    }\n",
       "</style>\n",
       "<table border=\"1\" class=\"dataframe\">\n",
       "  <thead>\n",
       "    <tr style=\"text-align: right;\">\n",
       "      <th></th>\n",
       "      <th>Title</th>\n",
       "      <th>URL</th>\n",
       "    </tr>\n",
       "  </thead>\n",
       "  <tbody>\n",
       "    <tr>\n",
       "      <th>95</th>\n",
       "      <td>le smash or pass</td>\n",
       "      <td>https://www.reddit.com/r/MonsterLegends/comments/tbeaxw/le_smash_or_pass/</td>\n",
       "    </tr>\n",
       "    <tr>\n",
       "      <th>68</th>\n",
       "      <td>Are they trying to make this game look terrible</td>\n",
       "      <td>https://www.reddit.com/r/MonsterLegends/comments/t6jg53/are_they_trying_to_make_this_game_look_terrible/</td>\n",
       "    </tr>\n",
       "    <tr>\n",
       "      <th>61</th>\n",
       "      <td>Missed opportunity for Doomsday era</td>\n",
       "      <td>https://www.reddit.com/r/MonsterLegends/comments/t5arn4/missed_opportunity_for_doomsday_era/</td>\n",
       "    </tr>\n",
       "    <tr>\n",
       "      <th>26</th>\n",
       "      <td>Yes $P, I agree to these terms</td>\n",
       "      <td>https://www.reddit.com/r/MonsterLegends/comments/sxddvk/yes_p_i_agree_to_these_terms/</td>\n",
       "    </tr>\n",
       "    <tr>\n",
       "      <th>25</th>\n",
       "      <td>The monsters have gone home. Illuminated by the dim sunlight, the dungeon is silent, waiting for a battle that will never come.</td>\n",
       "      <td>https://www.reddit.com/r/MonsterLegends/comments/sx5wpn/the_monsters_have_gone_home_illuminated_by_the/</td>\n",
       "    </tr>\n",
       "    <tr>\n",
       "      <th>67</th>\n",
       "      <td>damn i liked the old art :(</td>\n",
       "      <td>https://www.reddit.com/r/MonsterLegends/comments/t67391/damn_i_liked_the_old_art/</td>\n",
       "    </tr>\n",
       "    <tr>\n",
       "      <th>54</th>\n",
       "      <td>I don’t usually make fnaf memes but...</td>\n",
       "      <td>https://www.reddit.com/r/MonsterLegends/comments/t47qsk/i_dont_usually_make_fnaf_memes_but/</td>\n",
       "    </tr>\n",
       "    <tr>\n",
       "      <th>49</th>\n",
       "      <td>Aren't you guys also sick of seeing these kinds of vidoes , they bug me off.</td>\n",
       "      <td>https://www.reddit.com/r/MonsterLegends/comments/t2y9p7/arent_you_guys_also_sick_of_seeing_these_kinds_of/</td>\n",
       "    </tr>\n",
       "    <tr>\n",
       "      <th>46</th>\n",
       "      <td>I have been Fighting this guy since 4pm rn it's 1 am and we are still in a multiplayer match. He heals I damage I heal he damages. Like how much more longer do i fight this guy? srsly</td>\n",
       "      <td>https://www.reddit.com/r/MonsterLegends/comments/t1bjvm/i_have_been_fighting_this_guy_since_4pm_rn_its_1/</td>\n",
       "    </tr>\n",
       "    <tr>\n",
       "      <th>69</th>\n",
       "      <td>Thoughts on the new trait icons?</td>\n",
       "      <td>https://www.reddit.com/r/MonsterLegends/comments/t6l2nk/thoughts_on_the_new_trait_icons/</td>\n",
       "    </tr>\n",
       "  </tbody>\n",
       "</table>\n",
       "</div>"
      ],
      "text/plain": [
       "                                                                                                                                                                                      Title  \\\n",
       "95                                                                                                                                                                         le smash or pass   \n",
       "68                                                                                                                                          Are they trying to make this game look terrible   \n",
       "61                                                                                                                                                      Missed opportunity for Doomsday era   \n",
       "26                                                                                                                                                           Yes $P, I agree to these terms   \n",
       "25                                                          The monsters have gone home. Illuminated by the dim sunlight, the dungeon is silent, waiting for a battle that will never come.   \n",
       "67                                                                                                                                                              damn i liked the old art :(   \n",
       "54                                                                                                                                                   I don’t usually make fnaf memes but...   \n",
       "49                                                                                                             Aren't you guys also sick of seeing these kinds of vidoes , they bug me off.   \n",
       "46  I have been Fighting this guy since 4pm rn it's 1 am and we are still in a multiplayer match. He heals I damage I heal he damages. Like how much more longer do i fight this guy? srsly   \n",
       "69                                                                                                                                                         Thoughts on the new trait icons?   \n",
       "\n",
       "                                                                                                           URL  \n",
       "95                                   https://www.reddit.com/r/MonsterLegends/comments/tbeaxw/le_smash_or_pass/  \n",
       "68    https://www.reddit.com/r/MonsterLegends/comments/t6jg53/are_they_trying_to_make_this_game_look_terrible/  \n",
       "61                https://www.reddit.com/r/MonsterLegends/comments/t5arn4/missed_opportunity_for_doomsday_era/  \n",
       "26                       https://www.reddit.com/r/MonsterLegends/comments/sxddvk/yes_p_i_agree_to_these_terms/  \n",
       "25     https://www.reddit.com/r/MonsterLegends/comments/sx5wpn/the_monsters_have_gone_home_illuminated_by_the/  \n",
       "67                           https://www.reddit.com/r/MonsterLegends/comments/t67391/damn_i_liked_the_old_art/  \n",
       "54                 https://www.reddit.com/r/MonsterLegends/comments/t47qsk/i_dont_usually_make_fnaf_memes_but/  \n",
       "49  https://www.reddit.com/r/MonsterLegends/comments/t2y9p7/arent_you_guys_also_sick_of_seeing_these_kinds_of/  \n",
       "46   https://www.reddit.com/r/MonsterLegends/comments/t1bjvm/i_have_been_fighting_this_guy_since_4pm_rn_its_1/  \n",
       "69                    https://www.reddit.com/r/MonsterLegends/comments/t6l2nk/thoughts_on_the_new_trait_icons/  "
      ]
     },
     "execution_count": 11,
     "metadata": {},
     "output_type": "execute_result"
    }
   ],
   "source": [
    "# Sort DataFrame \n",
    "df.sort_values(by=['Upvotes'], ascending=False, inplace=True)\n",
    "\n",
    "df[['Title', 'URL']].head(10)"
   ]
  },
  {
   "cell_type": "markdown",
   "id": "f14fb781",
   "metadata": {},
   "source": [
    "#### 5-2. Feature: Author"
   ]
  },
  {
   "cell_type": "code",
   "execution_count": 12,
   "id": "b46cc833",
   "metadata": {},
   "outputs": [
    {
     "data": {
      "text/plain": [
       "68"
      ]
     },
     "execution_count": 12,
     "metadata": {},
     "output_type": "execute_result"
    }
   ],
   "source": [
    "# Number of unique authors March 2022\n",
    "df['Author'].nunique()"
   ]
  },
  {
   "cell_type": "code",
   "execution_count": 13,
   "id": "b380a068",
   "metadata": {},
   "outputs": [
    {
     "data": {
      "image/png": "[encoded data removed]",
      "text/plain": [
       "<Figure size 864x432 with 1 Axes>"
      ]
     },
     "metadata": {
      "image/png": {
       "height": 377,
       "width": 817
      }
     },
     "output_type": "display_data"
    }
   ],
   "source": [
    "# Plot top 10 authors (number of posts made on subreddit)\n",
    "df['Author'].value_counts().head(10).plot(kind='barh', ec='black', width=.8)\n",
    "plt.xticks(fontweight=12, fontsize=12)\n",
    "plt.yticks(fontweight=12, fontsize=12)\n",
    "plt.title('Top 10 Authors Monster Legends: March 2022', fontweight=14, fontsize=14)\n",
    "plt.show()"
   ]
  },
  {
   "cell_type": "markdown",
   "id": "0b2fce11",
   "metadata": {},
   "source": [
    "#### 5-3. Top 3 Authors"
   ]
  },
  {
   "cell_type": "code",
   "execution_count": 14,
   "id": "c75ff54f",
   "metadata": {},
   "outputs": [
    {
     "name": "stdout",
     "output_type": "stream",
     "text": [
      "\n",
      "Author ID: 6Bad-_-Karma9\n"
     ]
    },
    {
     "data": {
      "text/html": [
       "<div>\n",
       "<style scoped>\n",
       "    .dataframe tbody tr th:only-of-type {\n",
       "        vertical-align: middle;\n",
       "    }\n",
       "\n",
       "    .dataframe tbody tr th {\n",
       "        vertical-align: top;\n",
       "    }\n",
       "\n",
       "    .dataframe thead th {\n",
       "        text-align: right;\n",
       "    }\n",
       "</style>\n",
       "<table border=\"1\" class=\"dataframe\">\n",
       "  <thead>\n",
       "    <tr style=\"text-align: right;\">\n",
       "      <th></th>\n",
       "      <th>Title</th>\n",
       "      <th>URL</th>\n",
       "    </tr>\n",
       "  </thead>\n",
       "  <tbody>\n",
       "    <tr>\n",
       "      <th>78</th>\n",
       "      <td>Good pull?</td>\n",
       "      <td>https://www.reddit.com/r/MonsterLegends/comments/t8a65s/good_pull/</td>\n",
       "    </tr>\n",
       "    <tr>\n",
       "      <th>28</th>\n",
       "      <td>Which one should I get</td>\n",
       "      <td>https://www.reddit.com/r/MonsterLegends/comments/sxlw72/which_one_should_i_get/</td>\n",
       "    </tr>\n",
       "    <tr>\n",
       "      <th>89</th>\n",
       "      <td>Are any of these monsters good (not shaded in)</td>\n",
       "      <td>https://www.reddit.com/r/MonsterLegends/comments/ta7bdi/are_any_of_these_monsters_good_not_shaded_in/</td>\n",
       "    </tr>\n",
       "    <tr>\n",
       "      <th>85</th>\n",
       "      <td>Worth it?</td>\n",
       "      <td>https://www.reddit.com/r/MonsterLegends/comments/t974i1/worth_it/</td>\n",
       "    </tr>\n",
       "    <tr>\n",
       "      <th>64</th>\n",
       "      <td>This dudes good right?</td>\n",
       "      <td>https://www.reddit.com/r/MonsterLegends/comments/t5jaeh/this_dudes_good_right/</td>\n",
       "    </tr>\n",
       "    <tr>\n",
       "      <th>27</th>\n",
       "      <td>Please tell me he’s actually good</td>\n",
       "      <td>https://www.reddit.com/r/MonsterLegends/comments/sxijth/please_tell_me_hes_actually_good/</td>\n",
       "    </tr>\n",
       "    <tr>\n",
       "      <th>42</th>\n",
       "      <td>Anyone know what this means</td>\n",
       "      <td>https://www.reddit.com/r/MonsterLegends/comments/t0ugbp/anyone_know_what_this_means/</td>\n",
       "    </tr>\n",
       "    <tr>\n",
       "      <th>86</th>\n",
       "      <td>Should I buy any of creators? I only have mr beast</td>\n",
       "      <td>https://www.reddit.com/r/MonsterLegends/comments/t9l8xw/should_i_buy_any_of_creators_i_only_have_mr_beast/</td>\n",
       "    </tr>\n",
       "  </tbody>\n",
       "</table>\n",
       "</div>"
      ],
      "text/plain": [
       "                                                 Title  \\\n",
       "78                                          Good pull?   \n",
       "28                              Which one should I get   \n",
       "89      Are any of these monsters good (not shaded in)   \n",
       "85                                           Worth it?   \n",
       "64                              This dudes good right?   \n",
       "27                   Please tell me he’s actually good   \n",
       "42                         Anyone know what this means   \n",
       "86  Should I buy any of creators? I only have mr beast   \n",
       "\n",
       "                                                                                                           URL  \n",
       "78                                          https://www.reddit.com/r/MonsterLegends/comments/t8a65s/good_pull/  \n",
       "28                             https://www.reddit.com/r/MonsterLegends/comments/sxlw72/which_one_should_i_get/  \n",
       "89       https://www.reddit.com/r/MonsterLegends/comments/ta7bdi/are_any_of_these_monsters_good_not_shaded_in/  \n",
       "85                                           https://www.reddit.com/r/MonsterLegends/comments/t974i1/worth_it/  \n",
       "64                              https://www.reddit.com/r/MonsterLegends/comments/t5jaeh/this_dudes_good_right/  \n",
       "27                   https://www.reddit.com/r/MonsterLegends/comments/sxijth/please_tell_me_hes_actually_good/  \n",
       "42                        https://www.reddit.com/r/MonsterLegends/comments/t0ugbp/anyone_know_what_this_means/  \n",
       "86  https://www.reddit.com/r/MonsterLegends/comments/t9l8xw/should_i_buy_any_of_creators_i_only_have_mr_beast/  "
      ]
     },
     "metadata": {},
     "output_type": "display_data"
    },
    {
     "name": "stdout",
     "output_type": "stream",
     "text": [
      "\n",
      "Author ID: Ok_Individual_8395\n"
     ]
    },
    {
     "data": {
      "text/html": [
       "<div>\n",
       "<style scoped>\n",
       "    .dataframe tbody tr th:only-of-type {\n",
       "        vertical-align: middle;\n",
       "    }\n",
       "\n",
       "    .dataframe tbody tr th {\n",
       "        vertical-align: top;\n",
       "    }\n",
       "\n",
       "    .dataframe thead th {\n",
       "        text-align: right;\n",
       "    }\n",
       "</style>\n",
       "<table border=\"1\" class=\"dataframe\">\n",
       "  <thead>\n",
       "    <tr style=\"text-align: right;\">\n",
       "      <th></th>\n",
       "      <th>Title</th>\n",
       "      <th>URL</th>\n",
       "    </tr>\n",
       "  </thead>\n",
       "  <tbody>\n",
       "    <tr>\n",
       "      <th>61</th>\n",
       "      <td>Missed opportunity for Doomsday era</td>\n",
       "      <td>https://www.reddit.com/r/MonsterLegends/comments/t5arn4/missed_opportunity_for_doomsday_era/</td>\n",
       "    </tr>\n",
       "    <tr>\n",
       "      <th>56</th>\n",
       "      <td>Wait a minute..</td>\n",
       "      <td>https://www.reddit.com/r/MonsterLegends/comments/t4yyam/wait_a_minute/</td>\n",
       "    </tr>\n",
       "    <tr>\n",
       "      <th>63</th>\n",
       "      <td>Cherub or Elfeera be like:</td>\n",
       "      <td>https://www.reddit.com/r/MonsterLegends/comments/t5bmoz/cherub_or_elfeera_be_like/</td>\n",
       "    </tr>\n",
       "    <tr>\n",
       "      <th>16</th>\n",
       "      <td>Ah yes, T E T S U M A N</td>\n",
       "      <td>https://www.reddit.com/r/MonsterLegends/comments/svpv72/ah_yes_t_e_t_s_u_m_a_n/</td>\n",
       "    </tr>\n",
       "    <tr>\n",
       "      <th>55</th>\n",
       "      <td>New elemental weakness system is already in the game</td>\n",
       "      <td>https://www.reddit.com/r/MonsterLegends/comments/t4w47l/new_elemental_weakness_system_is_already_in_the/</td>\n",
       "    </tr>\n",
       "    <tr>\n",
       "      <th>60</th>\n",
       "      <td>I need this</td>\n",
       "      <td>https://www.reddit.com/r/MonsterLegends/comments/t5a9ve/i_need_this/</td>\n",
       "    </tr>\n",
       "  </tbody>\n",
       "</table>\n",
       "</div>"
      ],
      "text/plain": [
       "                                                   Title  \\\n",
       "61                   Missed opportunity for Doomsday era   \n",
       "56                                       Wait a minute..   \n",
       "63                            Cherub or Elfeera be like:   \n",
       "16                               Ah yes, T E T S U M A N   \n",
       "55  New elemental weakness system is already in the game   \n",
       "60                                           I need this   \n",
       "\n",
       "                                                                                                         URL  \n",
       "61              https://www.reddit.com/r/MonsterLegends/comments/t5arn4/missed_opportunity_for_doomsday_era/  \n",
       "56                                    https://www.reddit.com/r/MonsterLegends/comments/t4yyam/wait_a_minute/  \n",
       "63                        https://www.reddit.com/r/MonsterLegends/comments/t5bmoz/cherub_or_elfeera_be_like/  \n",
       "16                           https://www.reddit.com/r/MonsterLegends/comments/svpv72/ah_yes_t_e_t_s_u_m_a_n/  \n",
       "55  https://www.reddit.com/r/MonsterLegends/comments/t4w47l/new_elemental_weakness_system_is_already_in_the/  \n",
       "60                                      https://www.reddit.com/r/MonsterLegends/comments/t5a9ve/i_need_this/  "
      ]
     },
     "metadata": {},
     "output_type": "display_data"
    },
    {
     "name": "stdout",
     "output_type": "stream",
     "text": [
      "\n",
      "Author ID: DankMeme_Enthusiast\n"
     ]
    },
    {
     "data": {
      "text/html": [
       "<div>\n",
       "<style scoped>\n",
       "    .dataframe tbody tr th:only-of-type {\n",
       "        vertical-align: middle;\n",
       "    }\n",
       "\n",
       "    .dataframe tbody tr th {\n",
       "        vertical-align: top;\n",
       "    }\n",
       "\n",
       "    .dataframe thead th {\n",
       "        text-align: right;\n",
       "    }\n",
       "</style>\n",
       "<table border=\"1\" class=\"dataframe\">\n",
       "  <thead>\n",
       "    <tr style=\"text-align: right;\">\n",
       "      <th></th>\n",
       "      <th>Title</th>\n",
       "      <th>URL</th>\n",
       "    </tr>\n",
       "  </thead>\n",
       "  <tbody>\n",
       "    <tr>\n",
       "      <th>38</th>\n",
       "      <td>When is there a discount on runes?</td>\n",
       "      <td>https://www.reddit.com/r/MonsterLegends/comments/sz6tcs/when_is_there_a_discount_on_runes/</td>\n",
       "    </tr>\n",
       "    <tr>\n",
       "      <th>75</th>\n",
       "      <td>First time beat the rusd</td>\n",
       "      <td>https://www.reddit.com/r/MonsterLegends/comments/t7rgqf/first_time_beat_the_rusd/</td>\n",
       "    </tr>\n",
       "    <tr>\n",
       "      <th>62</th>\n",
       "      <td>Any tips on beating him?</td>\n",
       "      <td>https://www.reddit.com/r/MonsterLegends/comments/t5bbdp/any_tips_on_beating_him/</td>\n",
       "    </tr>\n",
       "    <tr>\n",
       "      <th>92</th>\n",
       "      <td>I have the most powerful pandaken!!!</td>\n",
       "      <td>https://www.reddit.com/r/MonsterLegends/comments/tanj26/i_have_the_most_powerful_pandaken/</td>\n",
       "    </tr>\n",
       "  </tbody>\n",
       "</table>\n",
       "</div>"
      ],
      "text/plain": [
       "                                   Title  \\\n",
       "38    When is there a discount on runes?   \n",
       "75              First time beat the rusd   \n",
       "62              Any tips on beating him?   \n",
       "92  I have the most powerful pandaken!!!   \n",
       "\n",
       "                                                                                           URL  \n",
       "38  https://www.reddit.com/r/MonsterLegends/comments/sz6tcs/when_is_there_a_discount_on_runes/  \n",
       "75           https://www.reddit.com/r/MonsterLegends/comments/t7rgqf/first_time_beat_the_rusd/  \n",
       "62            https://www.reddit.com/r/MonsterLegends/comments/t5bbdp/any_tips_on_beating_him/  \n",
       "92  https://www.reddit.com/r/MonsterLegends/comments/tanj26/i_have_the_most_powerful_pandaken/  "
      ]
     },
     "metadata": {},
     "output_type": "display_data"
    }
   ],
   "source": [
    "# Top 3 Authors\n",
    "for x in df['Author'].value_counts().head(3).index:\n",
    "    print(f\"\\nAuthor ID: {x}\")\n",
    "    display(df[['Title', 'URL']][df['Author'] == x])"
   ]
  },
  {
   "cell_type": "markdown",
   "id": "e9a3b907",
   "metadata": {},
   "source": [
    "[Return to contents](#sections)"
   ]
  }
 ],
 "metadata": {
  "kernelspec": {
   "display_name": "Python 3 (ipykernel)",
   "language": "python",
   "name": "python3"
  },
  "language_info": {
   "codemirror_mode": {
    "name": "ipython",
    "version": 3
   },
   "file_extension": ".py",
   "mimetype": "text/x-python",
   "name": "python",
   "nbconvert_exporter": "python",
   "pygments_lexer": "ipython3",
   "version": "3.9.6"
  }
 },
 "nbformat": 4,
 "nbformat_minor": 5
}
